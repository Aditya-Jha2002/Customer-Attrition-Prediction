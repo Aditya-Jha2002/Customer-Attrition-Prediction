{
 "cells": [
  {
   "cell_type": "code",
   "execution_count": 2,
   "metadata": {
    "_cell_guid": "b1076dfc-b9ad-4769-8c92-a6c4dae69d19",
    "_uuid": "8f2839f25d086af736a60e9eeb907d3b93b6e0e5"
   },
   "outputs": [],
   "source": [
    "#1 is yes 0 is no\n",
    "import numpy as np # linear algebra\n",
    "import pandas as pd # data processing, CSV file I/O (e.g. pd.read_csv)\n",
    "import os\n",
    "import seaborn as sns\n",
    "import matplotlib.pyplot as plt\n",
    "import warnings\n",
    "warnings.filterwarnings(\"ignore\")\n",
    "%matplotlib inline"
   ]
  },
  {
   "cell_type": "code",
   "execution_count": 3,
   "metadata": {},
   "outputs": [],
   "source": [
    "BASE_DIR = \"../input/customerattritionprediction/\"\n",
    "train = pd.read_csv(f'{BASE_DIR}train.csv')\n",
    "test = pd.read_csv(f'{BASE_DIR}test.csv')\n",
    "sample_sub = pd.read_csv(f'{BASE_DIR}Sample Submission.csv')"
   ]
  },
  {
   "cell_type": "markdown",
   "metadata": {},
   "source": [
    "# Data Understanding"
   ]
  },
  {
   "cell_type": "code",
   "execution_count": 4,
   "metadata": {},
   "outputs": [
    {
     "data": {
      "text/html": [
       "<div>\n",
       "<style scoped>\n",
       "    .dataframe tbody tr th:only-of-type {\n",
       "        vertical-align: middle;\n",
       "    }\n",
       "\n",
       "    .dataframe tbody tr th {\n",
       "        vertical-align: top;\n",
       "    }\n",
       "\n",
       "    .dataframe thead th {\n",
       "        text-align: right;\n",
       "    }\n",
       "</style>\n",
       "<table border=\"1\" class=\"dataframe\">\n",
       "  <thead>\n",
       "    <tr style=\"text-align: right;\">\n",
       "      <th></th>\n",
       "      <th>ID</th>\n",
       "      <th>sex</th>\n",
       "      <th>Aged</th>\n",
       "      <th>Married</th>\n",
       "      <th>TotalDependents</th>\n",
       "      <th>ServiceSpan</th>\n",
       "      <th>MobileService</th>\n",
       "      <th>4GService</th>\n",
       "      <th>CyberProtection</th>\n",
       "      <th>HardwareSupport</th>\n",
       "      <th>TechnicalAssistance</th>\n",
       "      <th>FilmSubscription</th>\n",
       "      <th>SettlementProcess</th>\n",
       "      <th>QuarterlyPayment</th>\n",
       "      <th>GrandPayment</th>\n",
       "      <th>CustomerAttrition</th>\n",
       "    </tr>\n",
       "  </thead>\n",
       "  <tbody>\n",
       "    <tr>\n",
       "      <th>0</th>\n",
       "      <td>B60LHTZLLPFU4IULNPUF</td>\n",
       "      <td>Female</td>\n",
       "      <td>No</td>\n",
       "      <td>No</td>\n",
       "      <td>Yes</td>\n",
       "      <td>48</td>\n",
       "      <td>Yes</td>\n",
       "      <td>Wifi Broadband</td>\n",
       "      <td>No</td>\n",
       "      <td>Yes</td>\n",
       "      <td>Yes</td>\n",
       "      <td>No</td>\n",
       "      <td>Check</td>\n",
       "      <td>96.259802</td>\n",
       "      <td>4628.129119</td>\n",
       "      <td>Yes</td>\n",
       "    </tr>\n",
       "    <tr>\n",
       "      <th>1</th>\n",
       "      <td>1RUJ7ONYZHYTWKOKO1SD</td>\n",
       "      <td>Male</td>\n",
       "      <td>No</td>\n",
       "      <td>Yes</td>\n",
       "      <td>No</td>\n",
       "      <td>45</td>\n",
       "      <td>Yes</td>\n",
       "      <td>Wifi Broadband</td>\n",
       "      <td>No</td>\n",
       "      <td>No</td>\n",
       "      <td>No</td>\n",
       "      <td>Yes</td>\n",
       "      <td>Bank</td>\n",
       "      <td>18.876470</td>\n",
       "      <td>922.085998</td>\n",
       "      <td>No</td>\n",
       "    </tr>\n",
       "  </tbody>\n",
       "</table>\n",
       "</div>"
      ],
      "text/plain": [
       "                     ID     sex Aged Married TotalDependents  ServiceSpan  \\\n",
       "0  B60LHTZLLPFU4IULNPUF  Female   No      No             Yes           48   \n",
       "1  1RUJ7ONYZHYTWKOKO1SD    Male   No     Yes              No           45   \n",
       "\n",
       "  MobileService       4GService CyberProtection HardwareSupport  \\\n",
       "0           Yes  Wifi Broadband              No             Yes   \n",
       "1           Yes  Wifi Broadband              No              No   \n",
       "\n",
       "  TechnicalAssistance FilmSubscription SettlementProcess  QuarterlyPayment  \\\n",
       "0                 Yes               No             Check         96.259802   \n",
       "1                  No              Yes              Bank         18.876470   \n",
       "\n",
       "   GrandPayment CustomerAttrition  \n",
       "0   4628.129119               Yes  \n",
       "1    922.085998                No  "
      ]
     },
     "execution_count": 4,
     "metadata": {},
     "output_type": "execute_result"
    }
   ],
   "source": [
    "train.head(2)"
   ]
  },
  {
   "cell_type": "code",
   "execution_count": 5,
   "metadata": {},
   "outputs": [
    {
     "data": {
      "text/html": [
       "<div>\n",
       "<style scoped>\n",
       "    .dataframe tbody tr th:only-of-type {\n",
       "        vertical-align: middle;\n",
       "    }\n",
       "\n",
       "    .dataframe tbody tr th {\n",
       "        vertical-align: top;\n",
       "    }\n",
       "\n",
       "    .dataframe thead th {\n",
       "        text-align: right;\n",
       "    }\n",
       "</style>\n",
       "<table border=\"1\" class=\"dataframe\">\n",
       "  <thead>\n",
       "    <tr style=\"text-align: right;\">\n",
       "      <th></th>\n",
       "      <th>ID</th>\n",
       "      <th>sex</th>\n",
       "      <th>Aged</th>\n",
       "      <th>Married</th>\n",
       "      <th>TotalDependents</th>\n",
       "      <th>ServiceSpan</th>\n",
       "      <th>MobileService</th>\n",
       "      <th>4GService</th>\n",
       "      <th>CyberProtection</th>\n",
       "      <th>HardwareSupport</th>\n",
       "      <th>TechnicalAssistance</th>\n",
       "      <th>FilmSubscription</th>\n",
       "      <th>SettlementProcess</th>\n",
       "      <th>QuarterlyPayment</th>\n",
       "      <th>GrandPayment</th>\n",
       "    </tr>\n",
       "  </thead>\n",
       "  <tbody>\n",
       "    <tr>\n",
       "      <th>0</th>\n",
       "      <td>WMORTPCG3HTIPEFSGUFY</td>\n",
       "      <td>Male</td>\n",
       "      <td>No</td>\n",
       "      <td>No</td>\n",
       "      <td>No</td>\n",
       "      <td>8</td>\n",
       "      <td>Yes</td>\n",
       "      <td>Wifi Broadband</td>\n",
       "      <td>No</td>\n",
       "      <td>No</td>\n",
       "      <td>No</td>\n",
       "      <td>Yes</td>\n",
       "      <td>Check</td>\n",
       "      <td>21.299937</td>\n",
       "      <td>151.092519</td>\n",
       "    </tr>\n",
       "    <tr>\n",
       "      <th>1</th>\n",
       "      <td>GBLPEA16C3KGBO57KEFO</td>\n",
       "      <td>Female</td>\n",
       "      <td>No</td>\n",
       "      <td>No</td>\n",
       "      <td>No</td>\n",
       "      <td>26</td>\n",
       "      <td>Yes</td>\n",
       "      <td>Satellite Broadband</td>\n",
       "      <td>No</td>\n",
       "      <td>Yes</td>\n",
       "      <td>No</td>\n",
       "      <td>Yes</td>\n",
       "      <td>Check</td>\n",
       "      <td>56.609623</td>\n",
       "      <td>1553.276979</td>\n",
       "    </tr>\n",
       "  </tbody>\n",
       "</table>\n",
       "</div>"
      ],
      "text/plain": [
       "                     ID     sex Aged Married TotalDependents  ServiceSpan  \\\n",
       "0  WMORTPCG3HTIPEFSGUFY    Male   No      No              No            8   \n",
       "1  GBLPEA16C3KGBO57KEFO  Female   No      No              No           26   \n",
       "\n",
       "  MobileService            4GService CyberProtection HardwareSupport  \\\n",
       "0           Yes       Wifi Broadband              No              No   \n",
       "1           Yes  Satellite Broadband              No             Yes   \n",
       "\n",
       "  TechnicalAssistance FilmSubscription SettlementProcess  QuarterlyPayment  \\\n",
       "0                  No              Yes             Check         21.299937   \n",
       "1                  No              Yes             Check         56.609623   \n",
       "\n",
       "   GrandPayment  \n",
       "0    151.092519  \n",
       "1   1553.276979  "
      ]
     },
     "execution_count": 5,
     "metadata": {},
     "output_type": "execute_result"
    }
   ],
   "source": [
    "test.head(2)"
   ]
  },
  {
   "cell_type": "code",
   "execution_count": 6,
   "metadata": {},
   "outputs": [
    {
     "data": {
      "text/html": [
       "<div>\n",
       "<style scoped>\n",
       "    .dataframe tbody tr th:only-of-type {\n",
       "        vertical-align: middle;\n",
       "    }\n",
       "\n",
       "    .dataframe tbody tr th {\n",
       "        vertical-align: top;\n",
       "    }\n",
       "\n",
       "    .dataframe thead th {\n",
       "        text-align: right;\n",
       "    }\n",
       "</style>\n",
       "<table border=\"1\" class=\"dataframe\">\n",
       "  <thead>\n",
       "    <tr style=\"text-align: right;\">\n",
       "      <th></th>\n",
       "      <th>ID</th>\n",
       "      <th>CustomerAttrition</th>\n",
       "    </tr>\n",
       "  </thead>\n",
       "  <tbody>\n",
       "    <tr>\n",
       "      <th>0</th>\n",
       "      <td>WMORTPCG3HTIPEFSGUFY</td>\n",
       "      <td>No</td>\n",
       "    </tr>\n",
       "    <tr>\n",
       "      <th>1</th>\n",
       "      <td>GBLPEA16C3KGBO57KEFO</td>\n",
       "      <td>No</td>\n",
       "    </tr>\n",
       "  </tbody>\n",
       "</table>\n",
       "</div>"
      ],
      "text/plain": [
       "                     ID CustomerAttrition\n",
       "0  WMORTPCG3HTIPEFSGUFY                No\n",
       "1  GBLPEA16C3KGBO57KEFO                No"
      ]
     },
     "execution_count": 6,
     "metadata": {},
     "output_type": "execute_result"
    }
   ],
   "source": [
    "sample_sub.head(2)"
   ]
  },
  {
   "cell_type": "code",
   "execution_count": 7,
   "metadata": {},
   "outputs": [
    {
     "name": "stdout",
     "output_type": "stream",
     "text": [
      "Shape of training data: (6338, 16)\n",
      "Shape of test data: (705, 15)\n"
     ]
    }
   ],
   "source": [
    "print(f'Shape of training data: {train.shape}')\n",
    "print(f'Shape of test data: {test.shape}')"
   ]
  },
  {
   "cell_type": "code",
   "execution_count": 8,
   "metadata": {},
   "outputs": [
    {
     "name": "stdout",
     "output_type": "stream",
     "text": [
      "no. of training examples: 6338\n",
      "no. of test examples: 705\n"
     ]
    }
   ],
   "source": [
    "print(f'no. of training examples: {len(train)}')\n",
    "print(f'no. of test examples: {len(test)}')"
   ]
  },
  {
   "cell_type": "code",
   "execution_count": 10,
   "metadata": {},
   "outputs": [
    {
     "data": {
      "text/plain": [
       "Index(['ID', 'sex', 'Aged', 'Married', 'TotalDependents', 'ServiceSpan',\n",
       "       'MobileService', '4GService', 'CyberProtection', 'HardwareSupport',\n",
       "       'TechnicalAssistance', 'FilmSubscription', 'SettlementProcess',\n",
       "       'QuarterlyPayment', 'GrandPayment', 'CustomerAttrition'],\n",
       "      dtype='object')"
      ]
     },
     "execution_count": 10,
     "metadata": {},
     "output_type": "execute_result"
    }
   ],
   "source": [
    "train.columns"
   ]
  },
  {
   "cell_type": "code",
   "execution_count": 11,
   "metadata": {},
   "outputs": [
    {
     "data": {
      "text/plain": [
       "ID                      0\n",
       "sex                     0\n",
       "Aged                    0\n",
       "Married                 0\n",
       "TotalDependents         0\n",
       "ServiceSpan             0\n",
       "MobileService           0\n",
       "4GService               0\n",
       "CyberProtection         0\n",
       "HardwareSupport         0\n",
       "TechnicalAssistance     0\n",
       "FilmSubscription        0\n",
       "SettlementProcess       0\n",
       "QuarterlyPayment        0\n",
       "GrandPayment           10\n",
       "CustomerAttrition       0\n",
       "dtype: int64"
      ]
     },
     "execution_count": 11,
     "metadata": {},
     "output_type": "execute_result"
    }
   ],
   "source": [
    "train.isna().sum()"
   ]
  },
  {
   "cell_type": "code",
   "execution_count": 12,
   "metadata": {},
   "outputs": [
    {
     "data": {
      "text/plain": [
       "ID                     0\n",
       "sex                    0\n",
       "Aged                   0\n",
       "Married                0\n",
       "TotalDependents        0\n",
       "ServiceSpan            0\n",
       "MobileService          0\n",
       "4GService              0\n",
       "CyberProtection        0\n",
       "HardwareSupport        0\n",
       "TechnicalAssistance    0\n",
       "FilmSubscription       0\n",
       "SettlementProcess      0\n",
       "QuarterlyPayment       0\n",
       "GrandPayment           1\n",
       "dtype: int64"
      ]
     },
     "execution_count": 12,
     "metadata": {},
     "output_type": "execute_result"
    }
   ],
   "source": [
    "test.isna().sum()"
   ]
  },
  {
   "cell_type": "code",
   "execution_count": 13,
   "metadata": {},
   "outputs": [
    {
     "name": "stdout",
     "output_type": "stream",
     "text": [
      "<class 'pandas.core.frame.DataFrame'>\n",
      "RangeIndex: 6338 entries, 0 to 6337\n",
      "Data columns (total 16 columns):\n",
      " #   Column               Non-Null Count  Dtype  \n",
      "---  ------               --------------  -----  \n",
      " 0   ID                   6338 non-null   object \n",
      " 1   sex                  6338 non-null   object \n",
      " 2   Aged                 6338 non-null   object \n",
      " 3   Married              6338 non-null   object \n",
      " 4   TotalDependents      6338 non-null   object \n",
      " 5   ServiceSpan          6338 non-null   int64  \n",
      " 6   MobileService        6338 non-null   object \n",
      " 7   4GService            6338 non-null   object \n",
      " 8   CyberProtection      6338 non-null   object \n",
      " 9   HardwareSupport      6338 non-null   object \n",
      " 10  TechnicalAssistance  6338 non-null   object \n",
      " 11  FilmSubscription     6338 non-null   object \n",
      " 12  SettlementProcess    6338 non-null   object \n",
      " 13  QuarterlyPayment     6338 non-null   float64\n",
      " 14  GrandPayment         6328 non-null   float64\n",
      " 15  CustomerAttrition    6338 non-null   object \n",
      "dtypes: float64(2), int64(1), object(13)\n",
      "memory usage: 792.4+ KB\n"
     ]
    }
   ],
   "source": [
    "train.info()"
   ]
  },
  {
   "cell_type": "markdown",
   "metadata": {},
   "source": [
    "# EDA"
   ]
  },
  {
   "cell_type": "code",
   "execution_count": 14,
   "metadata": {},
   "outputs": [
    {
     "data": {
      "text/plain": [
       "<AxesSubplot:xlabel='CustomerAttrition', ylabel='count'>"
      ]
     },
     "execution_count": 14,
     "metadata": {},
     "output_type": "execute_result"
    },
    {
     "data": {
      "image/png": "[encoded data removed]",
      "text/plain": [
       "<Figure size 432x288 with 1 Axes>"
      ]
     },
     "metadata": {
      "needs_background": "light"
     },
     "output_type": "display_data"
    }
   ],
   "source": [
    "sns.countplot(train['CustomerAttrition'])"
   ]
  },
  {
   "cell_type": "code",
   "execution_count": 15,
   "metadata": {},
   "outputs": [
    {
     "name": "stdout",
     "output_type": "stream",
     "text": [
      "<class 'pandas.core.frame.DataFrame'>\n",
      "RangeIndex: 705 entries, 0 to 704\n",
      "Data columns (total 15 columns):\n",
      " #   Column               Non-Null Count  Dtype  \n",
      "---  ------               --------------  -----  \n",
      " 0   ID                   705 non-null    object \n",
      " 1   sex                  705 non-null    object \n",
      " 2   Aged                 705 non-null    object \n",
      " 3   Married              705 non-null    object \n",
      " 4   TotalDependents      705 non-null    object \n",
      " 5   ServiceSpan          705 non-null    int64  \n",
      " 6   MobileService        705 non-null    object \n",
      " 7   4GService            705 non-null    object \n",
      " 8   CyberProtection      705 non-null    object \n",
      " 9   HardwareSupport      705 non-null    object \n",
      " 10  TechnicalAssistance  705 non-null    object \n",
      " 11  FilmSubscription     705 non-null    object \n",
      " 12  SettlementProcess    705 non-null    object \n",
      " 13  QuarterlyPayment     705 non-null    float64\n",
      " 14  GrandPayment         704 non-null    float64\n",
      "dtypes: float64(2), int64(1), object(12)\n",
      "memory usage: 82.7+ KB\n"
     ]
    }
   ],
   "source": [
    "test.info()"
   ]
  },
  {
   "cell_type": "code",
   "execution_count": 16,
   "metadata": {},
   "outputs": [
    {
     "name": "stdout",
     "output_type": "stream",
     "text": [
      "ID: cardinality: 6338\n",
      "sex: cardinality: 2\n",
      "Aged: cardinality: 2\n",
      "Married: cardinality: 2\n",
      "TotalDependents: cardinality: 2\n",
      "ServiceSpan: cardinality: 76\n",
      "MobileService: cardinality: 2\n",
      "4GService: cardinality: 3\n",
      "CyberProtection: cardinality: 2\n",
      "HardwareSupport: cardinality: 2\n",
      "TechnicalAssistance: cardinality: 2\n",
      "FilmSubscription: cardinality: 2\n",
      "SettlementProcess: cardinality: 4\n",
      "QuarterlyPayment: cardinality: 6338\n",
      "GrandPayment: cardinality: 6328\n",
      "CustomerAttrition: cardinality: 2\n"
     ]
    }
   ],
   "source": [
    "for col in train.columns:\n",
    "    print(f'{col}: cardinality: {train[col].nunique()}')"
   ]
  },
  {
   "cell_type": "markdown",
   "metadata": {},
   "source": [
    "**Insights**:-<br>\n",
    "Binary Features:-<br>\n",
    "sex, Aged, Married, TotalDependents, MobileService, CyberProtection, HardwareSupport, TechnicalAssistance,\n",
    "FilmSubscription\n",
    "\n",
    "Categorical Features:-<br>\n",
    "4GService, SettlementProcess, ServiceSpan\n",
    "\n",
    "Continuous Features:- <br>\n",
    "QuarterlyPayment, GrandPayment\n",
    "\n",
    "Target:- <br>\n",
    "CustomerAttrition"
   ]
  },
  {
   "cell_type": "code",
   "execution_count": 17,
   "metadata": {},
   "outputs": [
    {
     "data": {
      "text/plain": [
       "<AxesSubplot:xlabel='QuarterlyPayment', ylabel='Count'>"
      ]
     },
     "execution_count": 17,
     "metadata": {},
     "output_type": "execute_result"
    },
    {
     "data": {
      "image/png": "[encoded data removed]",
      "text/plain": [
       "<Figure size 432x288 with 1 Axes>"
      ]
     },
     "metadata": {
      "needs_background": "light"
     },
     "output_type": "display_data"
    }
   ],
   "source": [
    "sns.histplot(train['QuarterlyPayment'])"
   ]
  },
  {
   "cell_type": "code",
   "execution_count": 18,
   "metadata": {},
   "outputs": [
    {
     "data": {
      "text/plain": [
       "<AxesSubplot:ylabel='Count'>"
      ]
     },
     "execution_count": 18,
     "metadata": {},
     "output_type": "execute_result"
    },
    {
     "data": {
      "image/png": "[encoded data removed]",
      "text/plain": [
       "<Figure size 432x288 with 1 Axes>"
      ]
     },
     "metadata": {
      "needs_background": "light"
     },
     "output_type": "display_data"
    }
   ],
   "source": [
    "sns.histplot(train[['GrandPayment']])"
   ]
  },
  {
   "cell_type": "code",
   "execution_count": 19,
   "metadata": {},
   "outputs": [
    {
     "data": {
      "text/plain": [
       "<AxesSubplot:xlabel='ServiceSpan', ylabel='Count'>"
      ]
     },
     "execution_count": 19,
     "metadata": {},
     "output_type": "execute_result"
    },
    {
     "data": {
      "image/png": "[encoded data removed]",
      "text/plain": [
       "<Figure size 432x288 with 1 Axes>"
      ]
     },
     "metadata": {
      "needs_background": "light"
     },
     "output_type": "display_data"
    }
   ],
   "source": [
    "sns.histplot(train['ServiceSpan'])"
   ]
  },
  {
   "cell_type": "code",
   "execution_count": 20,
   "metadata": {},
   "outputs": [
    {
     "data": {
      "text/plain": [
       "<AxesSubplot:ylabel='QuarterlyPayment'>"
      ]
     },
     "execution_count": 20,
     "metadata": {},
     "output_type": "execute_result"
    },
    {
     "data": {
      "image/png": "[encoded data removed]",
      "text/plain": [
       "<Figure size 432x288 with 1 Axes>"
      ]
     },
     "metadata": {
      "needs_background": "light"
     },
     "output_type": "display_data"
    }
   ],
   "source": [
    "sns.boxplot(y=train['QuarterlyPayment'])"
   ]
  },
  {
   "cell_type": "code",
   "execution_count": 21,
   "metadata": {},
   "outputs": [
    {
     "data": {
      "text/plain": [
       "<AxesSubplot:ylabel='GrandPayment'>"
      ]
     },
     "execution_count": 21,
     "metadata": {},
     "output_type": "execute_result"
    },
    {
     "data": {
      "image/png": "[encoded data removed]",
      "text/plain": [
       "<Figure size 432x288 with 1 Axes>"
      ]
     },
     "metadata": {
      "needs_background": "light"
     },
     "output_type": "display_data"
    }
   ],
   "source": [
    "sns.boxplot(y=train['GrandPayment'])"
   ]
  },
  {
   "cell_type": "code",
   "execution_count": 22,
   "metadata": {},
   "outputs": [
    {
     "data": {
      "text/plain": [
       "<AxesSubplot:ylabel='ServiceSpan'>"
      ]
     },
     "execution_count": 22,
     "metadata": {},
     "output_type": "execute_result"
    },
    {
     "data": {
      "image/png": "[encoded data removed]",
      "text/plain": [
       "<Figure size 432x288 with 1 Axes>"
      ]
     },
     "metadata": {
      "needs_background": "light"
     },
     "output_type": "display_data"
    }
   ],
   "source": [
    "sns.boxplot(y=train['ServiceSpan'])"
   ]
  },
  {
   "cell_type": "code",
   "execution_count": 23,
   "metadata": {},
   "outputs": [
    {
     "data": {
      "text/html": [
       "<div>\n",
       "<style scoped>\n",
       "    .dataframe tbody tr th:only-of-type {\n",
       "        vertical-align: middle;\n",
       "    }\n",
       "\n",
       "    .dataframe tbody tr th {\n",
       "        vertical-align: top;\n",
       "    }\n",
       "\n",
       "    .dataframe thead th {\n",
       "        text-align: right;\n",
       "    }\n",
       "</style>\n",
       "<table border=\"1\" class=\"dataframe\">\n",
       "  <thead>\n",
       "    <tr style=\"text-align: right;\">\n",
       "      <th></th>\n",
       "      <th>QuarterlyPayment</th>\n",
       "      <th>GrandPayment</th>\n",
       "      <th>ServiceSpan</th>\n",
       "    </tr>\n",
       "  </thead>\n",
       "  <tbody>\n",
       "    <tr>\n",
       "      <th>QuarterlyPayment</th>\n",
       "      <td>1.000000</td>\n",
       "      <td>0.652655</td>\n",
       "      <td>0.249470</td>\n",
       "    </tr>\n",
       "    <tr>\n",
       "      <th>GrandPayment</th>\n",
       "      <td>0.652655</td>\n",
       "      <td>1.000000</td>\n",
       "      <td>0.824522</td>\n",
       "    </tr>\n",
       "    <tr>\n",
       "      <th>ServiceSpan</th>\n",
       "      <td>0.249470</td>\n",
       "      <td>0.824522</td>\n",
       "      <td>1.000000</td>\n",
       "    </tr>\n",
       "  </tbody>\n",
       "</table>\n",
       "</div>"
      ],
      "text/plain": [
       "                  QuarterlyPayment  GrandPayment  ServiceSpan\n",
       "QuarterlyPayment          1.000000      0.652655     0.249470\n",
       "GrandPayment              0.652655      1.000000     0.824522\n",
       "ServiceSpan               0.249470      0.824522     1.000000"
      ]
     },
     "execution_count": 23,
     "metadata": {},
     "output_type": "execute_result"
    }
   ],
   "source": [
    "train[['QuarterlyPayment','GrandPayment','ServiceSpan']].corr()"
   ]
  },
  {
   "cell_type": "code",
   "execution_count": 24,
   "metadata": {},
   "outputs": [
    {
     "ename": "IndexError",
     "evalue": "list index out of range",
     "output_type": "error",
     "traceback": [
      "\u001b[0;31m---------------------------------------------------------------------------\u001b[0m",
      "\u001b[0;31mIndexError\u001b[0m                                Traceback (most recent call last)",
      "\u001b[0;32m<ipython-input-24-23cf6775d4bc>\u001b[0m in \u001b[0;36m<module>\u001b[0;34m\u001b[0m\n\u001b[1;32m      4\u001b[0m     \u001b[0mplt\u001b[0m\u001b[0;34m.\u001b[0m\u001b[0msubplot\u001b[0m\u001b[0;34m(\u001b[0m\u001b[0;36m4\u001b[0m\u001b[0;34m,\u001b[0m\u001b[0;36m3\u001b[0m\u001b[0;34m,\u001b[0m\u001b[0mi\u001b[0m\u001b[0;34m+\u001b[0m\u001b[0;36m1\u001b[0m\u001b[0;34m)\u001b[0m\u001b[0;34m\u001b[0m\u001b[0;34m\u001b[0m\u001b[0m\n\u001b[1;32m      5\u001b[0m \u001b[0;31m#     plt.title(f'{col_cat[i]}')\u001b[0m\u001b[0;34m\u001b[0m\u001b[0;34m\u001b[0m\u001b[0;34m\u001b[0m\u001b[0m\n\u001b[0;32m----> 6\u001b[0;31m     \u001b[0msns\u001b[0m\u001b[0;34m.\u001b[0m\u001b[0mcountplot\u001b[0m\u001b[0;34m(\u001b[0m\u001b[0mx\u001b[0m\u001b[0;34m=\u001b[0m\u001b[0mtrain\u001b[0m\u001b[0;34m[\u001b[0m\u001b[0mcol_cat\u001b[0m\u001b[0;34m[\u001b[0m\u001b[0mi\u001b[0m\u001b[0;34m]\u001b[0m\u001b[0;34m]\u001b[0m\u001b[0;34m)\u001b[0m\u001b[0;34m\u001b[0m\u001b[0;34m\u001b[0m\u001b[0m\n\u001b[0m",
      "\u001b[0;31mIndexError\u001b[0m: list index out of range"
     ]
    },
    {
     "data": {
      "image/png": "[encoded data removed]",
      "text/plain": [
       "<Figure size 1008x1008 with 12 Axes>"
      ]
     },
     "metadata": {
      "needs_background": "light"
     },
     "output_type": "display_data"
    }
   ],
   "source": [
    "col_cat = ['sex', 'Aged', 'Married', 'TotalDependents', 'MobileService', 'CyberProtection', 'HardwareSupport', 'TechnicalAssistance', 'FilmSubscription', '4GService', 'SettlementProcess']\n",
    "plt.figure(figsize=(14,14))\n",
    "for i in range(12):\n",
    "    plt.subplot(4,3,i+1)\n",
    "#     plt.title(f'{col_cat[i]}')\n",
    "    sns.countplot(x=train[col_cat[i]])"
   ]
  },
  {
   "cell_type": "markdown",
   "metadata": {},
   "source": [
    "# Modeling"
   ]
  },
  {
   "cell_type": "code",
   "execution_count": 42,
   "metadata": {},
   "outputs": [],
   "source": [
    "from xgboost import XGBClassifier\n",
    "BASE_DIR = \"../input/customerattritionprediction/\"\n",
    "\n",
    "train = pd.read_csv(f'{BASE_DIR}train.csv')\n",
    "\n",
    "test = pd.read_csv(f'{BASE_DIR}test.csv')\n",
    "\n",
    "sample_sub = pd.read_csv(f'{BASE_DIR}Sample Submission.csv')"
   ]
  },
  {
   "cell_type": "code",
   "execution_count": 43,
   "metadata": {},
   "outputs": [],
   "source": [
    "cat_features = ['sex', 'Aged', 'Married', 'TotalDependents', 'MobileService', 'CyberProtection', 'HardwareSupport', 'TechnicalAssistance', 'FilmSubscription', '4GService', 'SettlementProcess']\n",
    "cont_features = ['QuarterlyPayment','GrandPayment', 'ServiceSpan']\n",
    "labelmap={\"Yes\":1,\"No\":0}\n",
    "train['CustomerAttrition']=train['CustomerAttrition'].map(labelmap)\n",
    "\n",
    "target = train[\"CustomerAttrition\"]\n",
    "\n",
    "train['GrandPayment'].fillna(train['GrandPayment'].median(),inplace=True)\n",
    "test['GrandPayment'].fillna(test['GrandPayment'].median(),inplace=True)"
   ]
  },
  {
   "cell_type": "code",
   "execution_count": 44,
   "metadata": {},
   "outputs": [],
   "source": [
    "from category_encoders import LeaveOneOutEncoder\n",
    "from sklearn.preprocessing import LabelEncoder\n",
    "\n",
    "xgb_cat_features = []\n",
    "lgb_cat_features = []\n",
    "cb_cat_features = []\n",
    "ridge_cat_features = []\n",
    "lr_cat_features = []\n",
    "hgbc_cat_features = []\n",
    "nn_cat_features = []\n",
    "\n",
    "loo_features = []\n",
    "le_features = []\n",
    "\n",
    "def label_encode(train_df, test_df, column):\n",
    "    le = LabelEncoder()\n",
    "    new_feature = \"{}_le\".format(column)\n",
    "    le.fit(train_df[column].unique().tolist() + test_df[column].unique().tolist())\n",
    "    train_df[new_feature] = le.transform(train_df[column])\n",
    "    test_df[new_feature] = le.transform(test_df[column])\n",
    "    return new_feature\n",
    "\n",
    "def loo_encode(train_df, test_df, column):\n",
    "    loo = LeaveOneOutEncoder()\n",
    "    new_feature = \"{}_loo\".format(column)\n",
    "    loo.fit(train_df[column], train_df[\"CustomerAttrition\"])\n",
    "    train_df[new_feature] = loo.transform(train_df[column])\n",
    "    test_df[new_feature] = loo.transform(test_df[column])\n",
    "    return new_feature\n",
    "\n",
    "for feature in cat_features:\n",
    "    loo_features.append(loo_encode(train, test, feature))\n",
    "    le_features.append(label_encode(train, test, feature))\n",
    "    \n",
    "xgb_cat_features.extend(loo_features)\n",
    "lgb_cat_features.extend(le_features)\n",
    "cb_cat_features.extend(cat_features)\n",
    "ridge_cat_features.extend(loo_features)\n",
    "lr_cat_features.extend(loo_features)\n",
    "hgbc_cat_features.extend(loo_features)\n",
    "nn_cat_features.extend(loo_features)"
   ]
  },
  {
   "cell_type": "code",
   "execution_count": 45,
   "metadata": {},
   "outputs": [
    {
     "name": "stdout",
     "output_type": "stream",
     "text": [
      "--> Fold 1\n",
      ": XGB - ROC AUC Score = 0.8129518572450439\n",
      ": XGB - Accuracy Score = 0.7957413249211357\n",
      " -----------------------------------\n",
      ": LGB - ROC AUC Score = 0.8090352288984264\n",
      ": LGB - Accuracy Score = 0.7902208201892744\n",
      " -----------------------------------\n",
      ": CB - ROC AUC Score = 0.8245947654812998\n",
      ": CB - Accuracy Score = 0.7933753943217665\n",
      " -----------------------------------\n",
      ": Ridge - ROC AUC Score = 0.8173506795422032\n",
      ": Ridge - Accuracy Score = 0.7917981072555205\n",
      " -----------------------------------\n",
      ": LR - ROC AUC Score = 0.7905266452074392\n",
      ": LR - Accuracy Score = 0.7862776025236593\n",
      " -----------------------------------\n",
      ": HGBC - ROC AUC Score = 0.7962586858777845\n",
      ": HGBC - Accuracy Score = 0.7760252365930599\n",
      " -----------------------------------\n",
      "Restoring model weights from the end of the best epoch.\n",
      "Epoch 00054: early stopping\n",
      ": NN - ROC AUC Score = 0.7678922695687718\n",
      ": NN - Accuracy Score = 0.7862776025236593\n",
      " -----------------------------------\n",
      "\n",
      "--> Fold 2\n",
      ": XGB - ROC AUC Score = 0.833435520130799\n",
      ": XGB - Accuracy Score = 0.7823343848580442\n",
      " -----------------------------------\n",
      ": LGB - ROC AUC Score = 0.8208186439811976\n",
      ": LGB - Accuracy Score = 0.7847003154574133\n",
      " -----------------------------------\n",
      ": CB - ROC AUC Score = 0.8406812027386064\n",
      ": CB - Accuracy Score = 0.7933753943217665\n",
      " -----------------------------------\n",
      ": Ridge - ROC AUC Score = 0.8277449928469242\n",
      ": Ridge - Accuracy Score = 0.7933753943217665\n",
      " -----------------------------------\n",
      ": LR - ROC AUC Score = 0.8245452687512773\n",
      ": LR - Accuracy Score = 0.7981072555205048\n",
      " -----------------------------------\n",
      ": HGBC - ROC AUC Score = 0.807566293684856\n",
      ": HGBC - Accuracy Score = 0.7665615141955836\n",
      " -----------------------------------\n",
      "Restoring model weights from the end of the best epoch.\n",
      "Epoch 00035: early stopping\n",
      ": NN - ROC AUC Score = 0.8117591457183733\n",
      ": NN - Accuracy Score = 0.7854889589905363\n",
      " -----------------------------------\n",
      "\n",
      "--> Fold 3\n",
      ": XGB - ROC AUC Score = 0.8150642499489067\n",
      ": XGB - Accuracy Score = 0.7807570977917981\n",
      " -----------------------------------\n",
      ": LGB - ROC AUC Score = 0.8129199238708359\n",
      ": LGB - Accuracy Score = 0.7728706624605678\n",
      " -----------------------------------\n",
      ": CB - ROC AUC Score = 0.8224392627222563\n",
      ": CB - Accuracy Score = 0.7941640378548895\n",
      " -----------------------------------\n",
      ": Ridge - ROC AUC Score = 0.8053948242387083\n",
      ": Ridge - Accuracy Score = 0.7823343848580442\n",
      " -----------------------------------\n",
      ": LR - ROC AUC Score = 0.801566012671163\n",
      ": LR - Accuracy Score = 0.7791798107255521\n",
      " -----------------------------------\n",
      ": HGBC - ROC AUC Score = 0.7939467095851216\n",
      ": HGBC - Accuracy Score = 0.7586750788643533\n",
      " -----------------------------------\n",
      "Restoring model weights from the end of the best epoch.\n",
      "Epoch 00028: early stopping\n",
      ": NN - ROC AUC Score = 0.7953358113631719\n",
      ": NN - Accuracy Score = 0.7847003154574133\n",
      " -----------------------------------\n",
      "\n",
      "--> Fold 4\n",
      ": XGB - ROC AUC Score = 0.8374060150375939\n",
      ": XGB - Accuracy Score = 0.8082083662194159\n",
      " -----------------------------------\n",
      ": LGB - ROC AUC Score = 0.8318532300138102\n",
      ": LGB - Accuracy Score = 0.7971586424625099\n",
      " -----------------------------------\n",
      ": CB - ROC AUC Score = 0.846497621605033\n",
      ": CB - Accuracy Score = 0.8058405682715075\n",
      " -----------------------------------\n",
      ": Ridge - ROC AUC Score = 0.8366515779244028\n",
      ": Ridge - Accuracy Score = 0.7924230465666929\n",
      " -----------------------------------\n",
      ": LR - ROC AUC Score = 0.8334707943327707\n",
      ": LR - Accuracy Score = 0.797947908445146\n",
      " -----------------------------------\n",
      ": HGBC - ROC AUC Score = 0.810703416705028\n",
      ": HGBC - Accuracy Score = 0.77663772691397\n",
      " -----------------------------------\n",
      "Restoring model weights from the end of the best epoch.\n",
      "Epoch 00032: early stopping\n",
      ": NN - ROC AUC Score = 0.8177874533271956\n",
      ": NN - Accuracy Score = 0.8097868981846882\n",
      " -----------------------------------\n",
      "\n",
      "--> Fold 5\n",
      ": XGB - ROC AUC Score = 0.8299895146028335\n",
      ": XGB - Accuracy Score = 0.77663772691397\n",
      " -----------------------------------\n",
      ": LGB - ROC AUC Score = 0.8256515012019846\n",
      ": LGB - Accuracy Score = 0.7861089187056038\n",
      " -----------------------------------\n",
      ": CB - ROC AUC Score = 0.8399090839343255\n",
      ": CB - Accuracy Score = 0.8003157063930545\n",
      " -----------------------------------\n",
      ": Ridge - ROC AUC Score = 0.8282217022147205\n",
      ": Ridge - Accuracy Score = 0.7971586424625099\n",
      " -----------------------------------\n",
      ": LR - ROC AUC Score = 0.8316390465960821\n",
      ": LR - Accuracy Score = 0.7932123125493291\n",
      " -----------------------------------\n",
      ": HGBC - ROC AUC Score = 0.8124264743491382\n",
      ": HGBC - Accuracy Score = 0.7632202052091555\n",
      " -----------------------------------\n",
      "Restoring model weights from the end of the best epoch.\n",
      "Epoch 00029: early stopping\n",
      ": NN - ROC AUC Score = 0.8251368216459516\n",
      ": NN - Accuracy Score = 0.7876874506708761\n",
      " -----------------------------------\n",
      "\n",
      "--> Overall metrics\n",
      ": XGB - ROC AUC Score = 0.8243816961091006\n",
      ": XGB - Accuracy Score = 0.788734616598296\n",
      " -----------------------------------\n",
      ": LGB - ROC AUC Score = 0.819723683268928\n",
      ": LGB - Accuracy Score = 0.7862101609340486\n",
      " -----------------------------------\n",
      ": CB - ROC AUC Score = 0.8342160951972029\n",
      ": CB - Accuracy Score = 0.7974124329441464\n",
      " -----------------------------------\n",
      ": Ridge - ROC AUC Score = 0.8222315933672739\n",
      ": Ridge - Accuracy Score = 0.7914168507415589\n",
      " -----------------------------------\n",
      ": LR - ROC AUC Score = 0.8158497157987283\n",
      ": LR - Accuracy Score = 0.7909435153045125\n",
      " -----------------------------------\n",
      ": HGBC - ROC AUC Score = 0.8039935134637796\n",
      ": HGBC - Accuracy Score = 0.7682234143262859\n",
      " -----------------------------------\n",
      ": NN - ROC AUC Score = 0.7979135997464679\n",
      ": NN - Accuracy Score = 0.790785736825497\n",
      " -----------------------------------\n"
     ]
    }
   ],
   "source": [
    "import warnings\n",
    "warnings.filterwarnings(\"ignore\")\n",
    "\n",
    "from lightgbm import LGBMClassifier\n",
    "from xgboost import XGBClassifier\n",
    "from catboost import CatBoostClassifier\n",
    "from sklearn.linear_model import RidgeClassifier\n",
    "from sklearn.linear_model import LogisticRegression\n",
    "from sklearn.calibration import CalibratedClassifierCV\n",
    "\n",
    "from sklearn.experimental import enable_hist_gradient_boosting\n",
    "from sklearn.ensemble import HistGradientBoostingClassifier\n",
    "\n",
    "from sklearn.model_selection import StratifiedKFold\n",
    "from sklearn.metrics import roc_auc_score\n",
    "from tensorflow import keras\n",
    "from keras.models import Model, load_model\n",
    "from keras.layers import Dropout, Dense, BatchNormalization, Embedding, Input, Concatenate, SpatialDropout1D, Reshape, Flatten, concatenate, Activation, LeakyReLU\n",
    "from keras.metrics import AUC\n",
    "from tensorflow.keras import utils\n",
    "from tensorflow.keras.utils import get_custom_objects\n",
    "from keras.optimizers import Adam, SGD\n",
    "from keras.losses import binary_crossentropy\n",
    "from keras.callbacks import EarlyStopping, ReduceLROnPlateau\n",
    "from keras import backend as K\n",
    "from keras.models import Sequential\n",
    "from keras.layers import Dense\n",
    "from sklearn.metrics import accuracy_score\n",
    "# get_custom_objects().update({'gelu': Activation(gelu)})\n",
    "get_custom_objects().update({'leaky-relu': Activation(LeakyReLU(alpha=0.2))})\n",
    "\n",
    "\n",
    "\n",
    "random_state = 2021\n",
    "# n_folds = 10\n",
    "n_folds = 5\n",
    "k_fold = StratifiedKFold(n_splits=n_folds, random_state=random_state, shuffle=True)\n",
    "\n",
    "xgb_train_preds = np.zeros(len(train.index), )\n",
    "xgb_test_preds = np.zeros(len(test.index), )\n",
    "xgb_features = xgb_cat_features + cont_features\n",
    "\n",
    "lgb_train_preds = np.zeros(len(train.index), )\n",
    "lgb_test_preds = np.zeros(len(test.index), )\n",
    "lgb_features = lgb_cat_features + cont_features\n",
    "\n",
    "cb_train_preds = np.zeros(len(train.index), )\n",
    "cb_test_preds = np.zeros(len(test.index), )\n",
    "cb_features = cb_cat_features + cont_features\n",
    "\n",
    "ridge_train_preds = np.zeros(len(train.index), )\n",
    "ridge_test_preds = np.zeros(len(test.index), )\n",
    "ridge_features = ridge_cat_features + cont_features\n",
    "\n",
    "lr_train_preds = np.zeros(len(train.index), )\n",
    "lr_test_preds = np.zeros(len(test.index), )\n",
    "lr_features = lr_cat_features + cont_features\n",
    "\n",
    "hgbc_train_preds = np.zeros(len(train.index), )\n",
    "hgbc_test_preds = np.zeros(len(test.index), )\n",
    "hgbc_features = hgbc_cat_features + cont_features\n",
    "\n",
    "nn_train_preds = np.zeros(len(train.index), )\n",
    "nn_test_preds = np.zeros(len(test.index), )\n",
    "nn_features = nn_cat_features + cont_features\n",
    "\n",
    "for fold, (train_index, test_index) in enumerate(k_fold.split(train, target)):\n",
    "    print(\"--> Fold {}\".format(fold + 1))\n",
    "    y_train = target.iloc[train_index]\n",
    "    y_valid = target.iloc[test_index]\n",
    "\n",
    "    xgb_x_train = pd.DataFrame(train[xgb_features].iloc[train_index])\n",
    "    xgb_x_valid = pd.DataFrame(train[xgb_features].iloc[test_index])\n",
    "\n",
    "    lgb_x_train = pd.DataFrame(train[lgb_features].iloc[train_index])\n",
    "    lgb_x_valid = pd.DataFrame(train[lgb_features].iloc[test_index])\n",
    "\n",
    "    cb_x_train = pd.DataFrame(train[cb_features].iloc[train_index])\n",
    "    cb_x_valid = pd.DataFrame(train[cb_features].iloc[test_index])\n",
    "\n",
    "    ridge_x_train = pd.DataFrame(train[ridge_features].iloc[train_index])\n",
    "    ridge_x_valid = pd.DataFrame(train[ridge_features].iloc[test_index])\n",
    "\n",
    "    lr_x_train = pd.DataFrame(train[lr_features].iloc[train_index])\n",
    "    lr_x_valid = pd.DataFrame(train[lr_features].iloc[test_index])\n",
    "\n",
    "    hgbc_x_train = pd.DataFrame(train[hgbc_features].iloc[train_index])\n",
    "    hgbc_x_valid = pd.DataFrame(train[hgbc_features].iloc[test_index])\n",
    "    \n",
    "    nn_x_train = pd.DataFrame(train[nn_features].iloc[train_index])\n",
    "    nn_x_valid = pd.DataFrame(train[nn_features].iloc[test_index])\n",
    "    \n",
    "    #XGBoost Classfier\n",
    "    xgb_model = XGBClassifier(\n",
    "        seed=random_state,\n",
    "        n_estimators=10000,\n",
    "        verbosity=1,\n",
    "        eval_metric=\"auc\",\n",
    "#         tree_method=\"gpu_hist\",\n",
    "#         gpu_id=0,\n",
    "        alpha=7.105038963844129,\n",
    "        colsample_bytree=0.25505629740052566,\n",
    "        gamma=0.4999381950212869,\n",
    "        reg_lambda=1.7256912198205319,\n",
    "        learning_rate=0.011823142071967673,\n",
    "        max_bin=338,\n",
    "        max_depth=8,\n",
    "        min_child_weight=2.286836198630466,\n",
    "        subsample=0.618417952155855,\n",
    "    )\n",
    "    xgb_model.fit(\n",
    "        xgb_x_train,\n",
    "        y_train,\n",
    "        eval_set=[(xgb_x_valid, y_valid)], \n",
    "        verbose=0,\n",
    "        early_stopping_rounds=200\n",
    "    )\n",
    "\n",
    "    train_oof_preds = xgb_model.predict_proba(xgb_x_valid)[:,1]\n",
    "    train_oof_classes = xgb_model.predict(xgb_x_valid)[:]\n",
    "    test_oof_preds = xgb_model.predict_proba(test[xgb_features])[:,1]\n",
    "    xgb_train_preds[test_index] = train_oof_preds\n",
    "    xgb_test_preds += test_oof_preds / n_folds\n",
    "    print(\": XGB - ROC AUC Score = {}\".format(roc_auc_score(y_valid, train_oof_preds, average=\"micro\")))\n",
    "    print(\": XGB - Accuracy Score = {}\".format(accuracy_score(y_valid, train_oof_classes)))\n",
    "    print(' -----------------------------------')\n",
    "\n",
    "    #LGBM Classifer\n",
    "    lgb_model = LGBMClassifier(\n",
    "        cat_feature=[x for x in range(len(lgb_cat_features))],\n",
    "        random_state=random_state,\n",
    "        cat_l2=25.999876242730252,\n",
    "        cat_smooth=89.2699690675538,\n",
    "        colsample_bytree=0.2557260109926193,\n",
    "        early_stopping_round=200,\n",
    "        learning_rate=0.00918685483594994,\n",
    "        max_bin=788,\n",
    "        max_depth=81,\n",
    "        metric=\"auc\",\n",
    "        min_child_samples=292,\n",
    "        min_data_per_group=177,\n",
    "        n_estimators=1600000,\n",
    "        n_jobs=-1,\n",
    "        num_leaves=171,\n",
    "        reg_alpha=0.7115353581785044,\n",
    "        reg_lambda=5.658115293998945,\n",
    "        subsample=0.9262904583735796,\n",
    "        subsample_freq=1,\n",
    "        verbose=-1,\n",
    "    )\n",
    "    lgb_model.fit(\n",
    "        lgb_x_train,\n",
    "        y_train,\n",
    "        eval_set=[(lgb_x_valid, y_valid)], \n",
    "        verbose=0,\n",
    "    )\n",
    "\n",
    "    train_oof_preds = lgb_model.predict_proba(lgb_x_valid)[:,1]\n",
    "    train_oof_classes = lgb_model.predict(lgb_x_valid)[:]\n",
    "    test_oof_preds = lgb_model.predict_proba(test[lgb_features])[:,1]\n",
    "    lgb_train_preds[test_index] = train_oof_preds\n",
    "    lgb_test_preds += test_oof_preds / n_folds\n",
    "    print(\": LGB - ROC AUC Score = {}\".format(roc_auc_score(y_valid, train_oof_preds, average=\"micro\")))\n",
    "    print(\": LGB - Accuracy Score = {}\".format(accuracy_score(y_valid, train_oof_classes)))\n",
    "    print(' -----------------------------------')\n",
    "\n",
    "    # CatBoost Model\n",
    "    cb_model = CatBoostClassifier(\n",
    "        verbose=0,\n",
    "        eval_metric=\"AUC\",\n",
    "        loss_function=\"Logloss\",\n",
    "        random_state=random_state,\n",
    "        num_boost_round=20000,\n",
    "        od_type=\"Iter\",\n",
    "        od_wait=200,\n",
    "#         task_type=\"GPU\",\n",
    "#         devices=\"0\",\n",
    "        cat_features=[x for x in range(len(cb_cat_features))],\n",
    "        bagging_temperature=1.288692494969795,\n",
    "        grow_policy=\"Depthwise\",\n",
    "        l2_leaf_reg=9.847870133539244,\n",
    "        learning_rate=0.01877982653902465,\n",
    "        max_depth=8,\n",
    "        min_data_in_leaf=1,\n",
    "        penalties_coefficient=2.1176668909602734,\n",
    "    )\n",
    "    cb_model.fit(\n",
    "        cb_x_train,\n",
    "        y_train,\n",
    "        eval_set=[(cb_x_valid, y_valid)], \n",
    "        verbose=0,\n",
    "    )\n",
    "\n",
    "    train_oof_preds = cb_model.predict_proba(cb_x_valid)[:,1]\n",
    "    train_oof_classes = cb_model.predict(cb_x_valid)[:]\n",
    "    test_oof_preds = cb_model.predict_proba(test[cb_features])[:,1]\n",
    "    cb_train_preds[test_index] = train_oof_preds\n",
    "    cb_test_preds += test_oof_preds / n_folds\n",
    "    print(\": CB - ROC AUC Score = {}\".format(roc_auc_score(y_valid, train_oof_preds, average=\"micro\")))\n",
    "    print(\": CB - Accuracy Score = {}\".format(accuracy_score(y_valid, train_oof_classes)))\n",
    "    print(' -----------------------------------')\n",
    "    \n",
    "    #Ridge Classifer\n",
    "    ridge_model = CalibratedClassifierCV(\n",
    "        RidgeClassifier(random_state=random_state),\n",
    "        cv=3,\n",
    "    )\n",
    "    ridge_model.fit(\n",
    "        ridge_x_train,\n",
    "        y_train,\n",
    "    )\n",
    "\n",
    "    train_oof_preds = ridge_model.predict_proba(ridge_x_valid)[:,-1]\n",
    "    train_oof_classes = ridge_model.predict(ridge_x_valid)\n",
    "    test_oof_preds = ridge_model.predict_proba(test[ridge_features])[:,-1]\n",
    "    ridge_train_preds[test_index] = train_oof_preds\n",
    "    ridge_test_preds += test_oof_preds / n_folds\n",
    "    print(\": Ridge - ROC AUC Score = {}\".format(roc_auc_score(y_valid, train_oof_preds, average=\"micro\")))\n",
    "    print(\": Ridge - Accuracy Score = {}\".format(accuracy_score(y_valid, train_oof_classes)))\n",
    "    print(' -----------------------------------')\n",
    "    \n",
    "    #Logistic Regression Model\n",
    "    lr_model = CalibratedClassifierCV(\n",
    "        LogisticRegression(\n",
    "            random_state=random_state,\n",
    "        ),\n",
    "        cv=3,\n",
    "    )\n",
    "    lr_model.fit(\n",
    "        lr_x_train,\n",
    "        y_train,\n",
    "    )\n",
    "\n",
    "    train_oof_preds = lr_model.predict_proba(lr_x_valid)[:,-1]\n",
    "    train_oof_classes = lr_model.predict(lr_x_valid)\n",
    "    test_oof_preds = lr_model.predict_proba(test[lr_features])[:,-1]\n",
    "    lr_train_preds[test_index] = train_oof_preds\n",
    "    lr_test_preds += test_oof_preds / n_folds\n",
    "    print(\": LR - ROC AUC Score = {}\".format(roc_auc_score(y_valid, train_oof_preds, average=\"micro\")))\n",
    "    print(\": LR - Accuracy Score = {}\".format(accuracy_score(y_valid, train_oof_classes)))\n",
    "    print(' -----------------------------------')\n",
    "    \n",
    "    \n",
    "    # HistGradientBoosting Classifer\n",
    "    hgbc_model = HistGradientBoostingClassifier(\n",
    "        l2_regularization=1.766059063693552,\n",
    "        learning_rate=0.10675193678150449,\n",
    "        max_bins=128,\n",
    "        max_depth=31,\n",
    "        max_leaf_nodes=185,\n",
    "        random_state=2021\n",
    "    )\n",
    "    hgbc_model.fit(\n",
    "        hgbc_x_train,\n",
    "        y_train,\n",
    "    )\n",
    "\n",
    "    train_oof_preds = hgbc_model.predict_proba(hgbc_x_valid)[:,-1]\n",
    "    train_oof_classes = hgbc_model.predict(hgbc_x_valid)\n",
    "    test_oof_preds = hgbc_model.predict_proba(test[hgbc_features])[:,-1]\n",
    "    hgbc_train_preds[test_index] = train_oof_preds\n",
    "    hgbc_test_preds += test_oof_preds / n_folds\n",
    "    print(\": HGBC - ROC AUC Score = {}\".format(roc_auc_score(y_valid, train_oof_preds, average=\"micro\")))\n",
    "    print(\": HGBC - Accuracy Score = {}\".format(accuracy_score(y_valid, train_oof_classes)))\n",
    "    print(' -----------------------------------')\n",
    "    \n",
    "    #Neural Network\n",
    "    CFG = {\n",
    "    'feature_selection_dropout' : 0.2,\n",
    "    'categorical_dropout' : 0.1,\n",
    "    'first_dense' : 256,\n",
    "    'second_dense' : 256,\n",
    "    'dense_dropout' : 0.2,\n",
    "    'activation_type' : 'leaky-relu',\n",
    "    'activation' : 'sigmoid',\n",
    "    'epochs' : 200,\n",
    "    'loss' : 'binary_crossentropy',\n",
    "    'optimizer' : Adam(0.003),\n",
    "    'mon_metrics' : 'val_accuracy',\n",
    "    'num_folds' : 5,\n",
    "      }\n",
    "    \n",
    "    nn_model = Sequential()\n",
    "    nn_model.add(Dense(128, input_dim=len(nn_features), activation='leaky-relu'))\n",
    "    nn_model.add(Dense(128, activation='leaky-relu'))\n",
    "    nn_model.add(Dense(1, activation='sigmoid'))\n",
    "    nn_model.compile(loss=CFG['loss'], optimizer=CFG['optimizer'], metrics=['accuracy','AUC'])\n",
    "\n",
    "    \n",
    "    es = EarlyStopping(monitor = CFG['mon_metrics'], min_delta = 0.001, patience = 20,\n",
    "                    verbose = 1, mode = 'max', baseline = None, restore_best_weights = True)\n",
    "\n",
    "    rlr = ReduceLROnPlateau(monitor=CFG['mon_metrics'], factor = 0.5, patience=5, mode='max', verbose=0, min_lr = 1e-6)\n",
    "    \n",
    "                                        \n",
    "    nn_model.fit(nn_x_train,\n",
    "              y_train,\n",
    "              validation_data = (nn_x_valid, y_valid),\n",
    "              verbose = 0,\n",
    "              batch_size = 10,\n",
    "              callbacks=[es],\n",
    "              epochs=CFG['epochs'],\n",
    "             )\n",
    "    \n",
    "    train_oof_preds = nn_model.predict_proba(nn_x_valid)[:,-1]\n",
    "    train_oof_classes = nn_model.predict_classes(nn_x_valid)\n",
    "    test_oof_preds = nn_model.predict_proba(test[nn_features])[:,-1]\n",
    "    nn_train_preds[test_index] = train_oof_preds\n",
    "    nn_test_preds += test_oof_preds / n_folds\n",
    "    \n",
    "    print(\": NN - ROC AUC Score = {}\".format(roc_auc_score(y_valid, train_oof_preds, average=\"micro\")))\n",
    "    print(\": NN - Accuracy Score = {}\".format(accuracy_score(y_valid, train_oof_classes)))\n",
    "    print(' -----------------------------------')\n",
    "    print(\"\")\n",
    "    \n",
    "print(\"--> Overall metrics\")\n",
    "print(\": XGB - ROC AUC Score = {}\".format(roc_auc_score(target, xgb_train_preds, average=\"micro\")))\n",
    "print(\": XGB - Accuracy Score = {}\".format(accuracy_score(target, np.round(xgb_train_preds))))\n",
    "print(' -----------------------------------')\n",
    "print(\": LGB - ROC AUC Score = {}\".format(roc_auc_score(target, lgb_train_preds, average=\"micro\")))\n",
    "print(\": LGB - Accuracy Score = {}\".format(accuracy_score(target, np.round(lgb_train_preds))))\n",
    "print(' -----------------------------------')\n",
    "print(\": CB - ROC AUC Score = {}\".format(roc_auc_score(target, cb_train_preds, average=\"micro\")))\n",
    "print(\": CB - Accuracy Score = {}\".format(accuracy_score(target, np.round(cb_train_preds))))\n",
    "print(' -----------------------------------')\n",
    "print(\": Ridge - ROC AUC Score = {}\".format(roc_auc_score(target, ridge_train_preds, average=\"micro\")))\n",
    "print(\": Ridge - Accuracy Score = {}\".format(accuracy_score(target, np.round(ridge_train_preds))))\n",
    "print(' -----------------------------------')\n",
    "print(\": LR - ROC AUC Score = {}\".format(roc_auc_score(target, lr_train_preds, average=\"micro\")))\n",
    "print(\": LR - Accuracy Score = {}\".format(accuracy_score(target, np.round(lr_train_preds))))\n",
    "print(' -----------------------------------')\n",
    "print(\": HGBC - ROC AUC Score = {}\".format(roc_auc_score(target, hgbc_train_preds, average=\"micro\")))\n",
    "print(\": HGBC - Accuracy Score = {}\".format(accuracy_score(target, np.round(hgbc_train_preds))))\n",
    "print(' -----------------------------------')\n",
    "print(\": NN - ROC AUC Score = {}\".format(roc_auc_score(target, nn_train_preds, average=\"micro\")))\n",
    "print(\": NN - Accuracy Score = {}\".format(accuracy_score(target, np.round(nn_train_preds))))\n",
    "print(' -----------------------------------')\n"
   ]
  },
  {
   "cell_type": "code",
   "execution_count": 46,
   "metadata": {},
   "outputs": [
    {
     "name": "stdout",
     "output_type": "stream",
     "text": [
      "--> Fold 1\n",
      ": ROC AUC Score = 0.8510499693439608\n",
      ": Accuracy Score = 0.8280757097791798\n",
      "\n",
      "--> Fold 2\n",
      ": ROC AUC Score = 0.7977467811158798\n",
      ": Accuracy Score = 0.7586750788643533\n",
      "\n",
      "--> Fold 3\n",
      ": ROC AUC Score = 0.8558144287758022\n",
      ": Accuracy Score = 0.7996845425867508\n",
      "\n",
      "--> Fold 4\n",
      ": ROC AUC Score = 0.8261802575107295\n",
      ": Accuracy Score = 0.7886435331230284\n",
      "\n",
      "--> Fold 5\n",
      ": ROC AUC Score = 0.8120784794604539\n",
      ": Accuracy Score = 0.7902208201892744\n",
      "\n",
      "--> Fold 6\n",
      ": ROC AUC Score = 0.8311363171878193\n",
      ": Accuracy Score = 0.7996845425867508\n",
      "\n",
      "--> Fold 7\n",
      ": ROC AUC Score = 0.8339720008174942\n",
      ": Accuracy Score = 0.8123028391167192\n",
      "\n",
      "--> Fold 8\n",
      ": ROC AUC Score = 0.8572578172900062\n",
      ": Accuracy Score = 0.805993690851735\n",
      "\n",
      "--> Fold 9\n",
      ": ROC AUC Score = 0.8289298515104966\n",
      ": Accuracy Score = 0.7883096366508688\n",
      "\n",
      "--> Fold 10\n",
      ": ROC AUC Score = 0.8485023041474654\n",
      ": Accuracy Score = 0.8041074249605056\n",
      "\n",
      "--> Overall metrics\n",
      ": ROC AUC Score = 0.8335426506368971\n",
      ": Accuracy Score = 0.7975702114231619\n"
     ]
    },
    {
     "ename": "NameError",
     "evalue": "name 'sklearn' is not defined",
     "output_type": "error",
     "traceback": [
      "\u001b[0;31m---------------------------------------------------------------------------\u001b[0m",
      "\u001b[0;31mNameError\u001b[0m                                 Traceback (most recent call last)",
      "\u001b[0;32m<ipython-input-46-795048d169dc>\u001b[0m in \u001b[0;36m<module>\u001b[0;34m\u001b[0m\n\u001b[1;32m     67\u001b[0m \u001b[0mprint\u001b[0m\u001b[0;34m(\u001b[0m\u001b[0;34m\": ROC AUC Score = {}\"\u001b[0m\u001b[0;34m.\u001b[0m\u001b[0mformat\u001b[0m\u001b[0;34m(\u001b[0m\u001b[0mroc_auc_score\u001b[0m\u001b[0;34m(\u001b[0m\u001b[0mtarget\u001b[0m\u001b[0;34m,\u001b[0m \u001b[0mtrain_preds\u001b[0m\u001b[0;34m,\u001b[0m \u001b[0maverage\u001b[0m\u001b[0;34m=\u001b[0m\u001b[0;34m\"micro\"\u001b[0m\u001b[0;34m)\u001b[0m\u001b[0;34m)\u001b[0m\u001b[0;34m)\u001b[0m\u001b[0;34m\u001b[0m\u001b[0;34m\u001b[0m\u001b[0m\n\u001b[1;32m     68\u001b[0m \u001b[0mprint\u001b[0m\u001b[0;34m(\u001b[0m\u001b[0;34m\": Accuracy Score = {}\"\u001b[0m\u001b[0;34m.\u001b[0m\u001b[0mformat\u001b[0m\u001b[0;34m(\u001b[0m\u001b[0maccuracy_score\u001b[0m\u001b[0;34m(\u001b[0m\u001b[0mtarget\u001b[0m\u001b[0;34m,\u001b[0m \u001b[0mnp\u001b[0m\u001b[0;34m.\u001b[0m\u001b[0mround\u001b[0m\u001b[0;34m(\u001b[0m\u001b[0mtrain_preds\u001b[0m\u001b[0;34m)\u001b[0m\u001b[0;34m)\u001b[0m\u001b[0;34m)\u001b[0m\u001b[0;34m)\u001b[0m\u001b[0;34m\u001b[0m\u001b[0;34m\u001b[0m\u001b[0m\n\u001b[0;32m---> 69\u001b[0;31m \u001b[0mcm\u001b[0m \u001b[0;34m=\u001b[0m \u001b[0msklearn\u001b[0m\u001b[0;34m.\u001b[0m\u001b[0mmetrics\u001b[0m\u001b[0;34m.\u001b[0m\u001b[0mconfusion_matrix\u001b[0m\u001b[0;34m(\u001b[0m\u001b[0mtarget\u001b[0m\u001b[0;34m,\u001b[0m \u001b[0mnp\u001b[0m\u001b[0;34m.\u001b[0m\u001b[0mround\u001b[0m\u001b[0;34m(\u001b[0m\u001b[0mtrain_preds\u001b[0m\u001b[0;34m)\u001b[0m\u001b[0;34m,\u001b[0m \u001b[0mlabels\u001b[0m\u001b[0;34m=\u001b[0m\u001b[0;34m[\u001b[0m\u001b[0;36m0.0\u001b[0m\u001b[0;34m,\u001b[0m\u001b[0;36m1.0\u001b[0m\u001b[0;34m]\u001b[0m\u001b[0;34m)\u001b[0m\u001b[0;34m\u001b[0m\u001b[0;34m\u001b[0m\u001b[0m\n\u001b[0m\u001b[1;32m     70\u001b[0m \u001b[0msns\u001b[0m\u001b[0;34m.\u001b[0m\u001b[0mheatmap\u001b[0m\u001b[0;34m(\u001b[0m\u001b[0mcm\u001b[0m\u001b[0;34m,\u001b[0m \u001b[0mannot\u001b[0m \u001b[0;34m=\u001b[0m \u001b[0;32mTrue\u001b[0m\u001b[0;34m,\u001b[0m \u001b[0mfmt\u001b[0m \u001b[0;34m=\u001b[0m \u001b[0;34m'.2f'\u001b[0m\u001b[0;34m)\u001b[0m\u001b[0;34m\u001b[0m\u001b[0;34m\u001b[0m\u001b[0m\n",
      "\u001b[0;31mNameError\u001b[0m: name 'sklearn' is not defined"
     ]
    },
    {
     "data": {
      "image/png": "[encoded data removed]",
      "text/plain": [
       "<Figure size 432x288 with 2 Axes>"
      ]
     },
     "metadata": {
      "needs_background": "light"
     },
     "output_type": "display_data"
    }
   ],
   "source": [
    "from scipy.special import expit\n",
    "from sklearn.calibration import CalibratedClassifierCV\n",
    "\n",
    "random_state = 2021\n",
    "n_folds = 10\n",
    "k_fold = StratifiedKFold(n_splits=n_folds, random_state=random_state, shuffle=True)\n",
    "\n",
    "l1_train = pd.DataFrame(data={\n",
    "    \"xgb\": xgb_train_preds.tolist(),\n",
    "    \"lgb\": lgb_train_preds.tolist(),\n",
    "    \"cb\": cb_train_preds.tolist(),\n",
    "    \"ridge\": ridge_train_preds.tolist(),\n",
    "    \"lr\": lr_train_preds.tolist(),\n",
    "    \"hgbc\": hgbc_train_preds.tolist(),\n",
    "    \"nn\" : nn_train_preds.tolist(),\n",
    "    \"target\": target.tolist()\n",
    "})\n",
    "l1_test = pd.DataFrame(data={\n",
    "    \"xgb\": xgb_test_preds.tolist(),\n",
    "    \"lgb\": lgb_test_preds.tolist(),\n",
    "    \"cb\": cb_test_preds.tolist(),\n",
    "    \"lr\": lr_test_preds.tolist(),\n",
    "    \"ridge\": ridge_test_preds.tolist(),    \n",
    "    \"hgbc\": hgbc_test_preds.tolist(),\n",
    "    \"nn\" : nn_test_preds.tolist()\n",
    "})\n",
    "\n",
    "\n",
    "# Compute the correlation matrix\n",
    "corr = l1_train.corr()\n",
    "\n",
    "\n",
    "sns.heatmap(corr, annot=True)\n",
    "# pd.set_option(\"max_rows\", None)\n",
    "# l1_train\n",
    "train_preds = np.zeros(len(l1_train.index), )\n",
    "test_preds = np.zeros(len(l1_test.index), )\n",
    "features = [\"cb\", \"ridge\", \"lr\", \"hgbc\"]\n",
    "\n",
    "for fold, (train_index, test_index) in enumerate(k_fold.split(l1_train, target)):\n",
    "    print(\"--> Fold {}\".format(fold + 1))\n",
    "    y_train = target.iloc[train_index]\n",
    "    y_valid = target.iloc[test_index]\n",
    "\n",
    "    x_train = pd.DataFrame(l1_train[features].iloc[train_index])\n",
    "    x_valid = pd.DataFrame(l1_train[features].iloc[test_index])\n",
    "    \n",
    "    model = CalibratedClassifierCV(\n",
    "        RidgeClassifier(random_state=random_state), \n",
    "        cv=3\n",
    "    )\n",
    "    model.fit(\n",
    "        x_train,\n",
    "        y_train,\n",
    "    )\n",
    "\n",
    "    train_oof_preds = model.predict_proba(x_valid)[:,-1]\n",
    "    train_oof_classes = model.predict(x_valid)\n",
    "    test_oof_preds = model.predict_proba(l1_test[features])[:,-1]\n",
    "    train_preds[test_index] = train_oof_preds\n",
    "    test_preds += test_oof_preds / n_folds\n",
    "    print(\": ROC AUC Score = {}\".format(roc_auc_score(y_valid, train_oof_preds, average=\"micro\")))\n",
    "    print(\": Accuracy Score = {}\".format(accuracy_score(y_valid, train_oof_classes)))\n",
    "    print(\"\")\n",
    "    \n",
    "print(\"--> Overall metrics\")\n",
    "print(\": ROC AUC Score = {}\".format(roc_auc_score(target, train_preds, average=\"micro\")))\n",
    "print(\": Accuracy Score = {}\".format(accuracy_score(target, np.round(train_preds))))\n",
    "cm = sklearn.metrics.confusion_matrix(target, np.round(train_preds), labels=[0.0,1.0])\n",
    "sns.heatmap(cm, annot = True, fmt = '.2f')      "
   ]
  },
  {
   "cell_type": "code",
   "execution_count": null,
   "metadata": {},
   "outputs": [],
   "source": [
    "submission = pd.read_csv(\"../input/customerattritionprediction/Sample Submission.csv\")\n",
    "submission[\"CustomerAttrition\"] = test_preds.tolist()\n",
    "submission[\"CustomerAttrition\"] = np.round(submission[\"CustomerAttrition\"])\n",
    "labelmap={1.0:\"Yes\",0.0:\"No\"}\n",
    "submission['CustomerAttrition']=submission['CustomerAttrition'].map(labelmap)\n",
    "submission"
   ]
  },
  {
   "cell_type": "code",
   "execution_count": null,
   "metadata": {},
   "outputs": [],
   "source": [
    "submission.CustomerAttrition.value_counts()"
   ]
  },
  {
   "cell_type": "code",
   "execution_count": null,
   "metadata": {},
   "outputs": [],
   "source": [
    "submission.to_csv('submission.csv',index=False)"
   ]
  }
 ],
 "metadata": {
  "kernelspec": {
   "display_name": "Python 3",
   "language": "python",
   "name": "python3"
  },
  "language_info": {
   "codemirror_mode": {
    "name": "ipython",
    "version": 3
   },
   "file_extension": ".py",
   "mimetype": "text/x-python",
   "name": "python",
   "nbconvert_exporter": "python",
   "pygments_lexer": "ipython3",
   "version": "3.8.3"
  }
 },
 "nbformat": 4,
 "nbformat_minor": 4
}
